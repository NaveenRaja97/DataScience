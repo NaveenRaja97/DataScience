{
 "cells": [
  {
   "cell_type": "markdown",
   "id": "1956cfde",
   "metadata": {},
   "source": [
    "# Linear Regression"
   ]
  },
  {
   "cell_type": "markdown",
   "id": "a8db8f44",
   "metadata": {},
   "source": [
    "$$ y = m*X + b $$"
   ]
  },
  {
   "cell_type": "code",
   "execution_count": 1,
   "id": "caaa71c9",
   "metadata": {},
   "outputs": [],
   "source": [
    "import pandas as pd\n",
    "import numpy as np"
   ]
  },
  {
   "cell_type": "code",
   "execution_count": 2,
   "id": "3e45bdae",
   "metadata": {},
   "outputs": [
    {
     "data": {
      "text/html": [
       "<div>\n",
       "<style scoped>\n",
       "    .dataframe tbody tr th:only-of-type {\n",
       "        vertical-align: middle;\n",
       "    }\n",
       "\n",
       "    .dataframe tbody tr th {\n",
       "        vertical-align: top;\n",
       "    }\n",
       "\n",
       "    .dataframe thead th {\n",
       "        text-align: right;\n",
       "    }\n",
       "</style>\n",
       "<table border=\"1\" class=\"dataframe\">\n",
       "  <thead>\n",
       "    <tr style=\"text-align: right;\">\n",
       "      <th></th>\n",
       "      <th>x</th>\n",
       "      <th>y</th>\n",
       "    </tr>\n",
       "  </thead>\n",
       "  <tbody>\n",
       "    <tr>\n",
       "      <th>0</th>\n",
       "      <td>1</td>\n",
       "      <td>1.5</td>\n",
       "    </tr>\n",
       "    <tr>\n",
       "      <th>1</th>\n",
       "      <td>2</td>\n",
       "      <td>3.8</td>\n",
       "    </tr>\n",
       "    <tr>\n",
       "      <th>2</th>\n",
       "      <td>3</td>\n",
       "      <td>6.7</td>\n",
       "    </tr>\n",
       "    <tr>\n",
       "      <th>3</th>\n",
       "      <td>4</td>\n",
       "      <td>9.0</td>\n",
       "    </tr>\n",
       "    <tr>\n",
       "      <th>4</th>\n",
       "      <td>5</td>\n",
       "      <td>11.2</td>\n",
       "    </tr>\n",
       "    <tr>\n",
       "      <th>5</th>\n",
       "      <td>6</td>\n",
       "      <td>13.6</td>\n",
       "    </tr>\n",
       "    <tr>\n",
       "      <th>6</th>\n",
       "      <td>7</td>\n",
       "      <td>16.0</td>\n",
       "    </tr>\n",
       "  </tbody>\n",
       "</table>\n",
       "</div>"
      ],
      "text/plain": [
       "   x     y\n",
       "0  1   1.5\n",
       "1  2   3.8\n",
       "2  3   6.7\n",
       "3  4   9.0\n",
       "4  5  11.2\n",
       "5  6  13.6\n",
       "6  7  16.0"
      ]
     },
     "execution_count": 2,
     "metadata": {},
     "output_type": "execute_result"
    }
   ],
   "source": [
    "data = {'x' : [1, 2, 3, 4, 5, 6, 7],'y' : [1.5, 3.8, 6.7, 9.0, 11.2, 13.6, 16]}       # data\n",
    "df = pd.DataFrame(data=data)        # converting data into dataframe\n",
    "df                               "
   ]
  },
  {
   "cell_type": "code",
   "execution_count": 3,
   "id": "3caa150e",
   "metadata": {},
   "outputs": [],
   "source": [
    "df['x*y'] = df['x'] * df['y']     # multiplication of x and y values\n",
    "df['sqr_x'] = df['x'] ** 2        # square of x values\n",
    "df['sum_xy'] = df['x'] + df['y']  # sum of x and y values"
   ]
  },
  {
   "cell_type": "code",
   "execution_count": 4,
   "id": "7cd5265e",
   "metadata": {},
   "outputs": [
    {
     "data": {
      "text/html": [
       "<div>\n",
       "<style scoped>\n",
       "    .dataframe tbody tr th:only-of-type {\n",
       "        vertical-align: middle;\n",
       "    }\n",
       "\n",
       "    .dataframe tbody tr th {\n",
       "        vertical-align: top;\n",
       "    }\n",
       "\n",
       "    .dataframe thead th {\n",
       "        text-align: right;\n",
       "    }\n",
       "</style>\n",
       "<table border=\"1\" class=\"dataframe\">\n",
       "  <thead>\n",
       "    <tr style=\"text-align: right;\">\n",
       "      <th></th>\n",
       "      <th>x</th>\n",
       "      <th>y</th>\n",
       "      <th>x*y</th>\n",
       "      <th>sqr_x</th>\n",
       "      <th>sum_xy</th>\n",
       "    </tr>\n",
       "  </thead>\n",
       "  <tbody>\n",
       "    <tr>\n",
       "      <th>0</th>\n",
       "      <td>1</td>\n",
       "      <td>1.5</td>\n",
       "      <td>1.5</td>\n",
       "      <td>1</td>\n",
       "      <td>2.5</td>\n",
       "    </tr>\n",
       "    <tr>\n",
       "      <th>1</th>\n",
       "      <td>2</td>\n",
       "      <td>3.8</td>\n",
       "      <td>7.6</td>\n",
       "      <td>4</td>\n",
       "      <td>5.8</td>\n",
       "    </tr>\n",
       "    <tr>\n",
       "      <th>2</th>\n",
       "      <td>3</td>\n",
       "      <td>6.7</td>\n",
       "      <td>20.1</td>\n",
       "      <td>9</td>\n",
       "      <td>9.7</td>\n",
       "    </tr>\n",
       "    <tr>\n",
       "      <th>3</th>\n",
       "      <td>4</td>\n",
       "      <td>9.0</td>\n",
       "      <td>36.0</td>\n",
       "      <td>16</td>\n",
       "      <td>13.0</td>\n",
       "    </tr>\n",
       "    <tr>\n",
       "      <th>4</th>\n",
       "      <td>5</td>\n",
       "      <td>11.2</td>\n",
       "      <td>56.0</td>\n",
       "      <td>25</td>\n",
       "      <td>16.2</td>\n",
       "    </tr>\n",
       "    <tr>\n",
       "      <th>5</th>\n",
       "      <td>6</td>\n",
       "      <td>13.6</td>\n",
       "      <td>81.6</td>\n",
       "      <td>36</td>\n",
       "      <td>19.6</td>\n",
       "    </tr>\n",
       "    <tr>\n",
       "      <th>6</th>\n",
       "      <td>7</td>\n",
       "      <td>16.0</td>\n",
       "      <td>112.0</td>\n",
       "      <td>49</td>\n",
       "      <td>23.0</td>\n",
       "    </tr>\n",
       "  </tbody>\n",
       "</table>\n",
       "</div>"
      ],
      "text/plain": [
       "   x     y    x*y  sqr_x  sum_xy\n",
       "0  1   1.5    1.5      1     2.5\n",
       "1  2   3.8    7.6      4     5.8\n",
       "2  3   6.7   20.1      9     9.7\n",
       "3  4   9.0   36.0     16    13.0\n",
       "4  5  11.2   56.0     25    16.2\n",
       "5  6  13.6   81.6     36    19.6\n",
       "6  7  16.0  112.0     49    23.0"
      ]
     },
     "execution_count": 4,
     "metadata": {},
     "output_type": "execute_result"
    }
   ],
   "source": [
    "df"
   ]
  },
  {
   "cell_type": "markdown",
   "id": "87084046",
   "metadata": {},
   "source": [
    "# Finding 'M' Value"
   ]
  },
  {
   "cell_type": "markdown",
   "id": "f70d7bc0",
   "metadata": {},
   "source": [
    "$$ m = \\frac{(n * \\sum_{i=0}^{n} X_{i} * Y_{i}) - (\\sum_{i=0}^{n} X * \\sum_{i=0}^{n} Y)}{(n*\\sum_{i=0}^{n}X^{2}) - (\\sum_{i=0}^{n}X)^{2}}$$"
   ]
  },
  {
   "cell_type": "markdown",
   "id": "70fb7d49",
   "metadata": {},
   "source": [
    "# Finding 'b' Value"
   ]
  },
  {
   "cell_type": "markdown",
   "id": "c944b0fb",
   "metadata": {},
   "source": [
    "$$ b = \\frac{\\sum_{i=0}^{n} Y_{i} - m * \\sum_{i=0}^{n} X_{i}}{n} $$"
   ]
  },
  {
   "cell_type": "markdown",
   "id": "4ccbd92f",
   "metadata": {},
   "source": [
    "# Mean Squared Error(MSE)"
   ]
  },
  {
   "cell_type": "markdown",
   "id": "6df5bea1",
   "metadata": {},
   "source": [
    "$$ MSE = \\frac{\\sum_{i=0}^{n}(Y_{orig}-Y_{pred})^{2}}{n}$$"
   ]
  },
  {
   "cell_type": "markdown",
   "id": "d876bca1",
   "metadata": {},
   "source": [
    "# Mean Absolute Error(MAE)"
   ]
  },
  {
   "cell_type": "markdown",
   "id": "555dbe7f",
   "metadata": {},
   "source": [
    "$$MAE = \\frac{\\sum_{i=0}^{n}(Y_{orig}-Y_{pred})}{n}$$"
   ]
  },
  {
   "cell_type": "code",
   "execution_count": 5,
   "id": "f2c1e134",
   "metadata": {},
   "outputs": [],
   "source": [
    "class LinearRegression:\n",
    "    \n",
    "    def __init__(self, df):\n",
    "        self.n = len(df)\n",
    "        self.sum_x = df['x'].sum()\n",
    "        self.sum_y = df['y'].sum()\n",
    "        self.sum_xy = df['sum_xy'].sum()\n",
    "        self.sqr_x = df['sqr_x'].sum()\n",
    "        self.sumx_h_2 = sum_x ** 2 \n",
    "        \n",
    "        \n",
    "    def m(self, n, sum_x, sum_y, sum_xy, sqr_x, sumx_h_2):     # To find m value\n",
    "        self.numerator = n*(sum_xy) - (sum_x) * (sum_y)\n",
    "        self.denominator = n*(sqr_x) - (sumx_h_2)\n",
    "        self.m = self.numerator / self.denominator\n",
    "        return self.m\n",
    "    \n",
    "    def b(self, n, sum_x, sum_y):                             # To find b value\n",
    "        self.numerator_b = ((sum_y) - (m * sum_x))\n",
    "        self.b = self.numerator_b / n\n",
    "        return self.b\n",
    "    \n",
    "    def fit_train(self, m, b , df):                           # To find ypred (y= mx + b)\n",
    "        self.y_pred = [(m*x_val) + b for x_val in df['x']]\n",
    "        return self.y_pred\n",
    "    \n",
    "    def mse(self, df, y_pred):                                # To find mse\n",
    "        mse = sum([(y_org - y_pred)**2 for y_org, y_pred in zip(df['y'],y_pred)]) / n\n",
    "        return mse\n",
    "    \n",
    "    def mae(self, df, y_pred):                                # To find mae\n",
    "        mae = sum([((y_org - y_pred)) for y_org, y_pred in zip(df['y'], y_pred)]) / n\n",
    "        return mae"
   ]
  },
  {
   "cell_type": "code",
   "execution_count": 7,
   "id": "cb27594e",
   "metadata": {},
   "outputs": [
    {
     "ename": "NameError",
     "evalue": "name 'sum_x' is not defined",
     "output_type": "error",
     "traceback": [
      "\u001b[1;31m---------------------------------------------------------------------------\u001b[0m",
      "\u001b[1;31mNameError\u001b[0m                                 Traceback (most recent call last)",
      "\u001b[1;32m~\\AppData\\Local\\Temp/ipykernel_4492/2442166239.py\u001b[0m in \u001b[0;36m<module>\u001b[1;34m\u001b[0m\n\u001b[1;32m----> 1\u001b[1;33m \u001b[0mobj_m\u001b[0m \u001b[1;33m=\u001b[0m \u001b[0mLinearRegression\u001b[0m\u001b[1;33m(\u001b[0m\u001b[0mdf\u001b[0m\u001b[1;33m)\u001b[0m\u001b[1;33m\u001b[0m\u001b[1;33m\u001b[0m\u001b[0m\n\u001b[0m\u001b[0;32m      2\u001b[0m \u001b[0mobj_m\u001b[0m\u001b[1;33m.\u001b[0m\u001b[0mm\u001b[0m\u001b[1;33m(\u001b[0m\u001b[0mn\u001b[0m\u001b[1;33m,\u001b[0m \u001b[0msum_x\u001b[0m\u001b[1;33m,\u001b[0m \u001b[0msum_y\u001b[0m\u001b[1;33m,\u001b[0m \u001b[0msum_xy\u001b[0m\u001b[1;33m,\u001b[0m \u001b[0msqr_x\u001b[0m\u001b[1;33m,\u001b[0m \u001b[0msumx_h_2\u001b[0m\u001b[1;33m)\u001b[0m\u001b[1;33m\u001b[0m\u001b[1;33m\u001b[0m\u001b[0m\n\u001b[0;32m      3\u001b[0m \u001b[0mprint\u001b[0m\u001b[1;33m(\u001b[0m\u001b[1;34m'm value is:'\u001b[0m\u001b[1;33m,\u001b[0m\u001b[0mm\u001b[0m\u001b[1;33m)\u001b[0m\u001b[1;33m\u001b[0m\u001b[1;33m\u001b[0m\u001b[0m\n",
      "\u001b[1;32m~\\AppData\\Local\\Temp/ipykernel_4492/983470196.py\u001b[0m in \u001b[0;36m__init__\u001b[1;34m(self, df)\u001b[0m\n\u001b[0;32m      7\u001b[0m         \u001b[0mself\u001b[0m\u001b[1;33m.\u001b[0m\u001b[0msum_xy\u001b[0m \u001b[1;33m=\u001b[0m \u001b[0mdf\u001b[0m\u001b[1;33m[\u001b[0m\u001b[1;34m'sum_xy'\u001b[0m\u001b[1;33m]\u001b[0m\u001b[1;33m.\u001b[0m\u001b[0msum\u001b[0m\u001b[1;33m(\u001b[0m\u001b[1;33m)\u001b[0m\u001b[1;33m\u001b[0m\u001b[1;33m\u001b[0m\u001b[0m\n\u001b[0;32m      8\u001b[0m         \u001b[0mself\u001b[0m\u001b[1;33m.\u001b[0m\u001b[0msqr_x\u001b[0m \u001b[1;33m=\u001b[0m \u001b[0mdf\u001b[0m\u001b[1;33m[\u001b[0m\u001b[1;34m'sqr_x'\u001b[0m\u001b[1;33m]\u001b[0m\u001b[1;33m.\u001b[0m\u001b[0msum\u001b[0m\u001b[1;33m(\u001b[0m\u001b[1;33m)\u001b[0m\u001b[1;33m\u001b[0m\u001b[1;33m\u001b[0m\u001b[0m\n\u001b[1;32m----> 9\u001b[1;33m         \u001b[0mself\u001b[0m\u001b[1;33m.\u001b[0m\u001b[0msumx_h_2\u001b[0m \u001b[1;33m=\u001b[0m \u001b[0msum_x\u001b[0m \u001b[1;33m**\u001b[0m \u001b[1;36m2\u001b[0m\u001b[1;33m\u001b[0m\u001b[1;33m\u001b[0m\u001b[0m\n\u001b[0m\u001b[0;32m     10\u001b[0m \u001b[1;33m\u001b[0m\u001b[0m\n\u001b[0;32m     11\u001b[0m \u001b[1;33m\u001b[0m\u001b[0m\n",
      "\u001b[1;31mNameError\u001b[0m: name 'sum_x' is not defined"
     ]
    }
   ],
   "source": [
    "obj_m = LinearRegression(df)\n",
    "obj_m.m(n, sum_x, sum_y, sum_xy, sqr_x, sumx_h_2)\n",
    "print('m value is:',m)"
   ]
  },
  {
   "cell_type": "code",
   "execution_count": null,
   "id": "e8c246a4",
   "metadata": {},
   "outputs": [],
   "source": [
    "obj_b = LinearRegression(df)\n",
    "obj_b.b(n, sum_x, sum_y)\n",
    "print('Value of b is:',b)"
   ]
  }
 ],
 "metadata": {
  "kernelspec": {
   "display_name": "Python 3 (ipykernel)",
   "language": "python",
   "name": "python3"
  },
  "language_info": {
   "codemirror_mode": {
    "name": "ipython",
    "version": 3
   },
   "file_extension": ".py",
   "mimetype": "text/x-python",
   "name": "python",
   "nbconvert_exporter": "python",
   "pygments_lexer": "ipython3",
   "version": "3.9.7"
  }
 },
 "nbformat": 4,
 "nbformat_minor": 5
}
